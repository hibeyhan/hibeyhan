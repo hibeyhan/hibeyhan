{
  "nbformat": 4,
  "nbformat_minor": 0,
  "metadata": {
    "colab": {
      "name": "Risky Investment.ipynb",
      "provenance": [],
      "collapsed_sections": [],
      "authorship_tag": "ABX9TyOSA0TjHa2ANpxDkn/sZzSC",
      "include_colab_link": true
    },
    "kernelspec": {
      "name": "python3",
      "display_name": "Python 3"
    },
    "language_info": {
      "name": "python"
    }
  },
  "cells": [
    {
      "cell_type": "markdown",
      "metadata": {
        "id": "view-in-github",
        "colab_type": "text"
      },
      "source": [
        "<a href=\"https://colab.research.google.com/github/hibeyhan/hibeyhan/blob/main/Currency%20Futures%20Example.ipynb\" target=\"_parent\"><img src=\"https://colab.research.google.com/assets/colab-badge.svg\" alt=\"Open In Colab\"/></a>"
      ]
    },
    {
      "cell_type": "markdown",
      "metadata": {
        "id": "OZfgiMn8LaEM"
      },
      "source": [
        "The aim this code is to show an application for hedging financial positions with futures contract. A case study is analysed and final balances are calculated under different scenarios.\n",
        "\n",
        "**Case:**\n",
        "\n",
        " On July 1st 2020, ABC company from US sells machinery to a German company and will receive € 3.78m in September 29th 2020. They expect that Euro will weaken against US Dollar, therefore, they choose to take a position in currency futures market to hedge their position. The current spot rate in the market is $1.1764/1€ and futures contracts at $1.170/1€ areavailable for delivery month."
      ]
    },
    {
      "cell_type": "code",
      "metadata": {
        "id": "nAEOqBFBp3YM"
      },
      "source": [
        "import numpy as np\n",
        "import pandas as pd\n",
        "import matplotlib.pyplot as plt\n",
        "from datetime import date, timedelta\n",
        "import matplotlib.pyplot as plt\n",
        "from matplotlib.pyplot import figure\n",
        "import warnings"
      ],
      "execution_count": 1,
      "outputs": []
    },
    {
      "cell_type": "markdown",
      "metadata": {
        "id": "47ubPsI_LYYU"
      },
      "source": [
        ""
      ]
    },
    {
      "cell_type": "code",
      "metadata": {
        "id": "vAK4mGeXqLBd"
      },
      "source": [
        "#Define class of future contracts\n",
        "class Future:\n",
        "    def __init__(self, enter_date, price, asset, size, expiry_date, tick, initial, maintain):\n",
        "        #the day of entering contract i.e. \"2021-08-23\" as year-month-day\n",
        "        self.enter_date=enter_date\n",
        "        #price of contract\n",
        "        self.price=price\n",
        "        #underlying asset i.e. \"\"Eur\"\"\n",
        "        self.asset = asset\n",
        "        #contract size of futures i.e. \"125000\"\n",
        "        self.size = size  \n",
        "        #termination day of contract  i.e. \"2021/09/23\" as year-month-day\n",
        "        self.expiry_date=expiry_date\n",
        "        #tick size of price move i.e. \"0.001\"\n",
        "        self.tick = tick  \n",
        "        #initial margin of contract i.e. \"3000\"\n",
        "        self.initial=initial \n",
        "        #maintainence margin of contract i.e. \"2200\"\n",
        "        self.maintain= maintain\n",
        "        \n",
        "    def timeToMaturity(self):\n",
        "        eyear,emonth,eday=self.expiry_date.split(\"/\")\n",
        "        iyear,imonth,iday=self.enter_date.split(\"/\")\n",
        "        timeToMat=date(int(eyear),int(emonth),int(eday))-date(int(iyear),int(imonth),int(iday))\n",
        "        timeToMat=timeToMat.days\n",
        "        return timeToMat\n",
        "    \n",
        "    def getDates(self):\n",
        "        timeStamp=[]\n",
        "        eyear,emonth,eday=self.expiry_date.split(\"/\")\n",
        "        eyear=int(eyear)\n",
        "        emonth=int(emonth)\n",
        "        eday=int(eday)\n",
        "        \n",
        "        iyear,imonth,iday=self.enter_date.split(\"/\")\n",
        "        iyear=int(iyear)\n",
        "        imonth=int(imonth)\n",
        "        iday=int(iday)\n",
        "        timeToMaturity=Future.timeToMaturity(self)\n",
        "\n",
        "        for i in range(timeToMaturity + 1):\n",
        "            days = pd.to_datetime(date(iyear,imonth,iday) + timedelta(days=i))\n",
        "            timeStamp.append(days)   \n",
        "        return timeStamp\n",
        "            \n",
        "\n",
        "        "
      ],
      "execution_count": 2,
      "outputs": []
    },
    {
      "cell_type": "markdown",
      "metadata": {
        "id": "FWyal-mCqVDg"
      },
      "source": [
        "We create a  future contract whose specifications are given by Future Class which is defined as Future (*contract_enter_date, price_on_contract, underlying_asset, contract_size, contract_expiry_date, tick_size, initial_margin, maintainance_margin*). Here, our future contract is Eurodollar and it is used to hedge Euro cash flow."
      ]
    },
    {
      "cell_type": "code",
      "metadata": {
        "id": "9-BX-kT5rDwr"
      },
      "source": [
        "future1=Future(\"2021/7/01\", 1.17,\"EUR\", 125000,\"2021/9/24\", 0.001, 3000, 2200)"
      ],
      "execution_count": 3,
      "outputs": []
    },
    {
      "cell_type": "markdown",
      "metadata": {
        "id": "1uwhv0DKs15K"
      },
      "source": [
        "A EUR/USD exchange rate is generated and simulated. Based on price generated, margin account can be tracked daily. Mark-to-market process is applied and the change in margin account is shown in Table 2."
      ]
    },
    {
      "cell_type": "code",
      "metadata": {
        "id": "GAaYiXCTQNTm"
      },
      "source": [
        "#We generate a random decreasing price \n",
        "price=future1.price\n",
        "maturity=future1.timeToMaturity()\n",
        "priceGenerated=np.linspace(price, price-maturity*0.0005, maturity+1)+np.append(0,np.random.randn(maturity)/(2*maturity))"
      ],
      "execution_count": 4,
      "outputs": []
    },
    {
      "cell_type": "code",
      "metadata": {
        "colab": {
          "base_uri": "https://localhost:8080/",
          "height": 449
        },
        "id": "lxDxdXkAsy4h",
        "outputId": "c329e32f-844a-4f4f-d85f-0534ef74427d"
      },
      "source": [
        "#We plot the price\n",
        "fig=figure(figsize=(8, 6), dpi=80)\n",
        "plt.plot(future1.getDates(),priceGenerated)\n",
        "fig.suptitle('Simulated Euro/US Dollar Exchange Rate', fontsize=14, y=0.92)\n",
        "plt.xlabel('Dates', fontsize=12)\n",
        "plt.ylabel('Euro/Dollar', fontsize=12)\n",
        "plt.grid()"
      ],
      "execution_count": 5,
      "outputs": [
        {
          "output_type": "display_data",
          "data": {
            "image/png": "[encoded data removed]",
            "text/plain": [
              "<Figure size 640x480 with 1 Axes>"
            ]
          },
          "metadata": {
            "needs_background": "light"
          }
        }
      ]
    },
    {
      "cell_type": "code",
      "metadata": {
        "id": "JPITCV8ktiqU"
      },
      "source": [
        "# Mark_to_market process\n",
        "ContractNumber=30\n",
        "\n",
        "MarkToMarket=pd.DataFrame({\"Dates\": future1.getDates(),\"Futures Price\": priceGenerated,\"Change in Value\":\"-\", \"Gain/Loss\":\"-\", \"Account Balance\":ContractNumber*future1.initial})\n",
        "warnings.filterwarnings(\"ignore\")\n",
        "pd.set_option('display.max_rows', 100)"
      ],
      "execution_count": 6,
      "outputs": []
    },
    {
      "cell_type": "code",
      "metadata": {
        "id": "ch22PmMIti1q"
      },
      "source": [
        "# Mark_to_market process\n",
        "for i in range(maturity):\n",
        "    if i==0:\n",
        "        MarkToMarket[\"Change in Value\"][i]=\"-\"\n",
        "        MarkToMarket[\"Gain/Loss\"][i]=\"-\"\n",
        "    else:\n",
        "        change=np.round(MarkToMarket[\"Futures Price\"][i]-MarkToMarket[\"Futures Price\"][i-1],4)\n",
        "        MarkToMarket[\"Change in Value\"][i]=change\n",
        "        MarkToMarket[\"Gain/Loss\"][i]=-round(change*ContractNumber*future1.size,1)\n",
        "        MarkToMarket[\"Account Balance\"][i]=round(MarkToMarket[\"Account Balance\"][i-1]+MarkToMarket[\"Gain/Loss\"][i])\n",
        "        MarkToMarket[\"Account Balance\"][maturity]=\"-\"\n",
        "    "
      ],
      "execution_count": 7,
      "outputs": []
    },
    {
      "cell_type": "code",
      "metadata": {
        "colab": {
          "base_uri": "https://localhost:8080/",
          "height": 363
        },
        "id": "SiTQMStmxc1r",
        "outputId": "803424f0-c3a3-44a7-9ced-8fd7647c35ee"
      },
      "source": [
        "#Change in Margin Account in  first 10 days of holding the contract\n",
        "MarkToMarket.head(10)"
      ],
      "execution_count": 8,
      "outputs": [
        {
          "output_type": "execute_result",
          "data": {
            "text/html": [
              "<div>\n",
              "<style scoped>\n",
              "    .dataframe tbody tr th:only-of-type {\n",
              "        vertical-align: middle;\n",
              "    }\n",
              "\n",
              "    .dataframe tbody tr th {\n",
              "        vertical-align: top;\n",
              "    }\n",
              "\n",
              "    .dataframe thead th {\n",
              "        text-align: right;\n",
              "    }\n",
              "</style>\n",
              "<table border=\"1\" class=\"dataframe\">\n",
              "  <thead>\n",
              "    <tr style=\"text-align: right;\">\n",
              "      <th></th>\n",
              "      <th>Dates</th>\n",
              "      <th>Futures Price</th>\n",
              "      <th>Change in Value</th>\n",
              "      <th>Gain/Loss</th>\n",
              "      <th>Account Balance</th>\n",
              "    </tr>\n",
              "  </thead>\n",
              "  <tbody>\n",
              "    <tr>\n",
              "      <th>0</th>\n",
              "      <td>2021-07-01</td>\n",
              "      <td>1.170000</td>\n",
              "      <td>-</td>\n",
              "      <td>-</td>\n",
              "      <td>90000</td>\n",
              "    </tr>\n",
              "    <tr>\n",
              "      <th>1</th>\n",
              "      <td>2021-07-02</td>\n",
              "      <td>1.169552</td>\n",
              "      <td>-0.0004</td>\n",
              "      <td>1500</td>\n",
              "      <td>91500</td>\n",
              "    </tr>\n",
              "    <tr>\n",
              "      <th>2</th>\n",
              "      <td>2021-07-03</td>\n",
              "      <td>1.176613</td>\n",
              "      <td>0.0071</td>\n",
              "      <td>-26625</td>\n",
              "      <td>64875</td>\n",
              "    </tr>\n",
              "    <tr>\n",
              "      <th>3</th>\n",
              "      <td>2021-07-04</td>\n",
              "      <td>1.177990</td>\n",
              "      <td>0.0014</td>\n",
              "      <td>-5250</td>\n",
              "      <td>59625</td>\n",
              "    </tr>\n",
              "    <tr>\n",
              "      <th>4</th>\n",
              "      <td>2021-07-05</td>\n",
              "      <td>1.165485</td>\n",
              "      <td>-0.0125</td>\n",
              "      <td>46875</td>\n",
              "      <td>106500</td>\n",
              "    </tr>\n",
              "    <tr>\n",
              "      <th>5</th>\n",
              "      <td>2021-07-06</td>\n",
              "      <td>1.170896</td>\n",
              "      <td>0.0054</td>\n",
              "      <td>-20250</td>\n",
              "      <td>86250</td>\n",
              "    </tr>\n",
              "    <tr>\n",
              "      <th>6</th>\n",
              "      <td>2021-07-07</td>\n",
              "      <td>1.159769</td>\n",
              "      <td>-0.0111</td>\n",
              "      <td>41625</td>\n",
              "      <td>127875</td>\n",
              "    </tr>\n",
              "    <tr>\n",
              "      <th>7</th>\n",
              "      <td>2021-07-08</td>\n",
              "      <td>1.165019</td>\n",
              "      <td>0.0052</td>\n",
              "      <td>-19500</td>\n",
              "      <td>108375</td>\n",
              "    </tr>\n",
              "    <tr>\n",
              "      <th>8</th>\n",
              "      <td>2021-07-09</td>\n",
              "      <td>1.174146</td>\n",
              "      <td>0.0091</td>\n",
              "      <td>-34125</td>\n",
              "      <td>74250</td>\n",
              "    </tr>\n",
              "    <tr>\n",
              "      <th>9</th>\n",
              "      <td>2021-07-10</td>\n",
              "      <td>1.166357</td>\n",
              "      <td>-0.0078</td>\n",
              "      <td>29250</td>\n",
              "      <td>103500</td>\n",
              "    </tr>\n",
              "  </tbody>\n",
              "</table>\n",
              "</div>"
            ],
            "text/plain": [
              "       Dates  Futures Price Change in Value Gain/Loss Account Balance\n",
              "0 2021-07-01       1.170000               -         -           90000\n",
              "1 2021-07-02       1.169552         -0.0004      1500           91500\n",
              "2 2021-07-03       1.176613          0.0071    -26625           64875\n",
              "3 2021-07-04       1.177990          0.0014     -5250           59625\n",
              "4 2021-07-05       1.165485         -0.0125     46875          106500\n",
              "5 2021-07-06       1.170896          0.0054    -20250           86250\n",
              "6 2021-07-07       1.159769         -0.0111     41625          127875\n",
              "7 2021-07-08       1.165019          0.0052    -19500          108375\n",
              "8 2021-07-09       1.174146          0.0091    -34125           74250\n",
              "9 2021-07-10       1.166357         -0.0078     29250          103500"
            ]
          },
          "metadata": {},
          "execution_count": 8
        }
      ]
    },
    {
      "cell_type": "code",
      "metadata": {
        "colab": {
          "base_uri": "https://localhost:8080/",
          "height": 363
        },
        "id": "BQ91xUgYtjAU",
        "outputId": "a6560b38-49da-42c5-a763-604f8c11128f"
      },
      "source": [
        "#Change in Margin Account in  last 10 days of holding the contract\n",
        "MarkToMarket.tail(10)"
      ],
      "execution_count": 9,
      "outputs": [
        {
          "output_type": "execute_result",
          "data": {
            "text/html": [
              "<div>\n",
              "<style scoped>\n",
              "    .dataframe tbody tr th:only-of-type {\n",
              "        vertical-align: middle;\n",
              "    }\n",
              "\n",
              "    .dataframe tbody tr th {\n",
              "        vertical-align: top;\n",
              "    }\n",
              "\n",
              "    .dataframe thead th {\n",
              "        text-align: right;\n",
              "    }\n",
              "</style>\n",
              "<table border=\"1\" class=\"dataframe\">\n",
              "  <thead>\n",
              "    <tr style=\"text-align: right;\">\n",
              "      <th></th>\n",
              "      <th>Dates</th>\n",
              "      <th>Futures Price</th>\n",
              "      <th>Change in Value</th>\n",
              "      <th>Gain/Loss</th>\n",
              "      <th>Account Balance</th>\n",
              "    </tr>\n",
              "  </thead>\n",
              "  <tbody>\n",
              "    <tr>\n",
              "      <th>76</th>\n",
              "      <td>2021-09-15</td>\n",
              "      <td>1.131248</td>\n",
              "      <td>0.0114</td>\n",
              "      <td>-42750</td>\n",
              "      <td>235125</td>\n",
              "    </tr>\n",
              "    <tr>\n",
              "      <th>77</th>\n",
              "      <td>2021-09-16</td>\n",
              "      <td>1.128235</td>\n",
              "      <td>-0.003</td>\n",
              "      <td>11250</td>\n",
              "      <td>246375</td>\n",
              "    </tr>\n",
              "    <tr>\n",
              "      <th>78</th>\n",
              "      <td>2021-09-17</td>\n",
              "      <td>1.132983</td>\n",
              "      <td>0.0047</td>\n",
              "      <td>-17625</td>\n",
              "      <td>228750</td>\n",
              "    </tr>\n",
              "    <tr>\n",
              "      <th>79</th>\n",
              "      <td>2021-09-18</td>\n",
              "      <td>1.142738</td>\n",
              "      <td>0.0098</td>\n",
              "      <td>-36750</td>\n",
              "      <td>192000</td>\n",
              "    </tr>\n",
              "    <tr>\n",
              "      <th>80</th>\n",
              "      <td>2021-09-19</td>\n",
              "      <td>1.131563</td>\n",
              "      <td>-0.0112</td>\n",
              "      <td>42000</td>\n",
              "      <td>234000</td>\n",
              "    </tr>\n",
              "    <tr>\n",
              "      <th>81</th>\n",
              "      <td>2021-09-20</td>\n",
              "      <td>1.128967</td>\n",
              "      <td>-0.0026</td>\n",
              "      <td>9750</td>\n",
              "      <td>243750</td>\n",
              "    </tr>\n",
              "    <tr>\n",
              "      <th>82</th>\n",
              "      <td>2021-09-21</td>\n",
              "      <td>1.136074</td>\n",
              "      <td>0.0071</td>\n",
              "      <td>-26625</td>\n",
              "      <td>217125</td>\n",
              "    </tr>\n",
              "    <tr>\n",
              "      <th>83</th>\n",
              "      <td>2021-09-22</td>\n",
              "      <td>1.135150</td>\n",
              "      <td>-0.0009</td>\n",
              "      <td>3375</td>\n",
              "      <td>220500</td>\n",
              "    </tr>\n",
              "    <tr>\n",
              "      <th>84</th>\n",
              "      <td>2021-09-23</td>\n",
              "      <td>1.112590</td>\n",
              "      <td>-0.0226</td>\n",
              "      <td>84750</td>\n",
              "      <td>305250</td>\n",
              "    </tr>\n",
              "    <tr>\n",
              "      <th>85</th>\n",
              "      <td>2021-09-24</td>\n",
              "      <td>1.128510</td>\n",
              "      <td>-</td>\n",
              "      <td>-</td>\n",
              "      <td>-</td>\n",
              "    </tr>\n",
              "  </tbody>\n",
              "</table>\n",
              "</div>"
            ],
            "text/plain": [
              "        Dates  Futures Price Change in Value Gain/Loss Account Balance\n",
              "76 2021-09-15       1.131248          0.0114    -42750          235125\n",
              "77 2021-09-16       1.128235          -0.003     11250          246375\n",
              "78 2021-09-17       1.132983          0.0047    -17625          228750\n",
              "79 2021-09-18       1.142738          0.0098    -36750          192000\n",
              "80 2021-09-19       1.131563         -0.0112     42000          234000\n",
              "81 2021-09-20       1.128967         -0.0026      9750          243750\n",
              "82 2021-09-21       1.136074          0.0071    -26625          217125\n",
              "83 2021-09-22       1.135150         -0.0009      3375          220500\n",
              "84 2021-09-23       1.112590         -0.0226     84750          305250\n",
              "85 2021-09-24       1.128510               -         -               -"
            ]
          },
          "metadata": {},
          "execution_count": 9
        }
      ]
    },
    {
      "cell_type": "markdown",
      "metadata": {
        "id": "JhHY-xMz6wWL"
      },
      "source": [
        "We can calculate gain/loss for different scenarios of spot rate at the date of futures contract is expired. Let \\spot_scenarios\\ be  [1.11,1.12,1.13,1.14,1.15,1.16, 1.17, 1.18, 1.19, 1.20, 1.21, 1.22, 1.23, 1.24]. Company could decide not to enter a future contract and go for spot rate, the total amount of US Dollars they receive would be:"
      ]
    },
    {
      "cell_type": "code",
      "metadata": {
        "colab": {
          "base_uri": "https://localhost:8080/",
          "height": 425
        },
        "id": "URsD9MRZ6yWo",
        "outputId": "58d04c8e-ad25-4877-a52a-2451ff9b1633"
      },
      "source": [
        "SpotScenarios=np.round(np.array([1.11,1.12,1.13,1.14,1.15,1.16,1.17, 1.18, 1.19, 1.20, 1.22, 1.24]),decimals=2)\n",
        "SpotFlow = 3750000*SpotScenarios\n",
        "FutureFlow=np.round(3750000*(np.array(len(SpotScenarios)*[1.17])))\n",
        "Scenarios=pd.DataFrame({\"|Spot Price|\":SpotScenarios, \"|Cash Flow at Spot Rate|\":SpotFlow, \"|Cash Flow with Full Hedging|\":FutureFlow})\n",
        "Scenarios[\"|Total Gain/Loss|\"]=Scenarios[\"|Cash Flow with Full Hedging|\"]-Scenarios[\"|Cash Flow at Spot Rate|\"]\n",
        "Scenarios.style.hide_index().set_properties(**{'text-align': 'center'})\n",
        "Scenarios"
      ],
      "execution_count": 10,
      "outputs": [
        {
          "output_type": "execute_result",
          "data": {
            "text/html": [
              "<div>\n",
              "<style scoped>\n",
              "    .dataframe tbody tr th:only-of-type {\n",
              "        vertical-align: middle;\n",
              "    }\n",
              "\n",
              "    .dataframe tbody tr th {\n",
              "        vertical-align: top;\n",
              "    }\n",
              "\n",
              "    .dataframe thead th {\n",
              "        text-align: right;\n",
              "    }\n",
              "</style>\n",
              "<table border=\"1\" class=\"dataframe\">\n",
              "  <thead>\n",
              "    <tr style=\"text-align: right;\">\n",
              "      <th></th>\n",
              "      <th>|Spot Price|</th>\n",
              "      <th>|Cash Flow at Spot Rate|</th>\n",
              "      <th>|Cash Flow with Full Hedging|</th>\n",
              "      <th>|Total Gain/Loss|</th>\n",
              "    </tr>\n",
              "  </thead>\n",
              "  <tbody>\n",
              "    <tr>\n",
              "      <th>0</th>\n",
              "      <td>1.11</td>\n",
              "      <td>4162500.0</td>\n",
              "      <td>4387500.0</td>\n",
              "      <td>225000.0</td>\n",
              "    </tr>\n",
              "    <tr>\n",
              "      <th>1</th>\n",
              "      <td>1.12</td>\n",
              "      <td>4200000.0</td>\n",
              "      <td>4387500.0</td>\n",
              "      <td>187500.0</td>\n",
              "    </tr>\n",
              "    <tr>\n",
              "      <th>2</th>\n",
              "      <td>1.13</td>\n",
              "      <td>4237500.0</td>\n",
              "      <td>4387500.0</td>\n",
              "      <td>150000.0</td>\n",
              "    </tr>\n",
              "    <tr>\n",
              "      <th>3</th>\n",
              "      <td>1.14</td>\n",
              "      <td>4275000.0</td>\n",
              "      <td>4387500.0</td>\n",
              "      <td>112500.0</td>\n",
              "    </tr>\n",
              "    <tr>\n",
              "      <th>4</th>\n",
              "      <td>1.15</td>\n",
              "      <td>4312500.0</td>\n",
              "      <td>4387500.0</td>\n",
              "      <td>75000.0</td>\n",
              "    </tr>\n",
              "    <tr>\n",
              "      <th>5</th>\n",
              "      <td>1.16</td>\n",
              "      <td>4350000.0</td>\n",
              "      <td>4387500.0</td>\n",
              "      <td>37500.0</td>\n",
              "    </tr>\n",
              "    <tr>\n",
              "      <th>6</th>\n",
              "      <td>1.17</td>\n",
              "      <td>4387500.0</td>\n",
              "      <td>4387500.0</td>\n",
              "      <td>0.0</td>\n",
              "    </tr>\n",
              "    <tr>\n",
              "      <th>7</th>\n",
              "      <td>1.18</td>\n",
              "      <td>4425000.0</td>\n",
              "      <td>4387500.0</td>\n",
              "      <td>-37500.0</td>\n",
              "    </tr>\n",
              "    <tr>\n",
              "      <th>8</th>\n",
              "      <td>1.19</td>\n",
              "      <td>4462500.0</td>\n",
              "      <td>4387500.0</td>\n",
              "      <td>-75000.0</td>\n",
              "    </tr>\n",
              "    <tr>\n",
              "      <th>9</th>\n",
              "      <td>1.20</td>\n",
              "      <td>4500000.0</td>\n",
              "      <td>4387500.0</td>\n",
              "      <td>-112500.0</td>\n",
              "    </tr>\n",
              "    <tr>\n",
              "      <th>10</th>\n",
              "      <td>1.22</td>\n",
              "      <td>4575000.0</td>\n",
              "      <td>4387500.0</td>\n",
              "      <td>-187500.0</td>\n",
              "    </tr>\n",
              "    <tr>\n",
              "      <th>11</th>\n",
              "      <td>1.24</td>\n",
              "      <td>4650000.0</td>\n",
              "      <td>4387500.0</td>\n",
              "      <td>-262500.0</td>\n",
              "    </tr>\n",
              "  </tbody>\n",
              "</table>\n",
              "</div>"
            ],
            "text/plain": [
              "    |Spot Price|  ...  |Total Gain/Loss|\n",
              "0           1.11  ...           225000.0\n",
              "1           1.12  ...           187500.0\n",
              "2           1.13  ...           150000.0\n",
              "3           1.14  ...           112500.0\n",
              "4           1.15  ...            75000.0\n",
              "5           1.16  ...            37500.0\n",
              "6           1.17  ...                0.0\n",
              "7           1.18  ...           -37500.0\n",
              "8           1.19  ...           -75000.0\n",
              "9           1.20  ...          -112500.0\n",
              "10          1.22  ...          -187500.0\n",
              "11          1.24  ...          -262500.0\n",
              "\n",
              "[12 rows x 4 columns]"
            ]
          },
          "metadata": {},
          "execution_count": 10
        }
      ]
    },
    {
      "cell_type": "code",
      "metadata": {
        "colab": {
          "base_uri": "https://localhost:8080/",
          "height": 246
        },
        "id": "KekvWhzpGTvy",
        "outputId": "0a6afdd0-5e9a-498a-8f0e-edc952158655"
      },
      "source": [
        "fig = plt.figure(figsize=(9,3))\n",
        "fig.add_subplot(121)\n",
        "ft2 = plt.axes()\n",
        "ft2.plot(Scenarios[\"|Spot Price|\"].head(7), Scenarios[\"|Total Gain/Loss|\"].head(7), color='g')\n",
        "ft2.plot(Scenarios[\"|Spot Price|\"].tail(6), Scenarios[\"|Total Gain/Loss|\"].tail(6), color='r')\n",
        "plt.title(\"Gain/Losses under different scenarios for spot rate\", fontsize=16)\n",
        "plt.xlabel('Spot Rate', fontsize=12)\n",
        "plt.ylabel('Gain/Loss ($)', fontsize=12)\n",
        "plt.grid(linestyle = '--', linewidth = 0.3)\n",
        "from google.colab import files\n",
        "plt.savefig(\"abcff.png\")\n",
        "files.download(\"abcff.png\") \n"
      ],
      "execution_count": 14,
      "outputs": [
        {
          "output_type": "display_data",
          "data": {
            "application/javascript": [
              "\n",
              "    async function download(id, filename, size) {\n",
              "      if (!google.colab.kernel.accessAllowed) {\n",
              "        return;\n",
              "      }\n",
              "      const div = document.createElement('div');\n",
              "      const label = document.createElement('label');\n",
              "      label.textContent = `Downloading \"${filename}\": `;\n",
              "      div.appendChild(label);\n",
              "      const progress = document.createElement('progress');\n",
              "      progress.max = size;\n",
              "      div.appendChild(progress);\n",
              "      document.body.appendChild(div);\n",
              "\n",
              "      const buffers = [];\n",
              "      let downloaded = 0;\n",
              "\n",
              "      const channel = await google.colab.kernel.comms.open(id);\n",
              "      // Send a message to notify the kernel that we're ready.\n",
              "      channel.send({})\n",
              "\n",
              "      for await (const message of channel.messages) {\n",
              "        // Send a message to notify the kernel that we're ready.\n",
              "        channel.send({})\n",
              "        if (message.buffers) {\n",
              "          for (const buffer of message.buffers) {\n",
              "            buffers.push(buffer);\n",
              "            downloaded += buffer.byteLength;\n",
              "            progress.value = downloaded;\n",
              "          }\n",
              "        }\n",
              "      }\n",
              "      const blob = new Blob(buffers, {type: 'application/binary'});\n",
              "      const a = document.createElement('a');\n",
              "      a.href = window.URL.createObjectURL(blob);\n",
              "      a.download = filename;\n",
              "      div.appendChild(a);\n",
              "      a.click();\n",
              "      div.remove();\n",
              "    }\n",
              "  "
            ],
            "text/plain": [
              "<IPython.core.display.Javascript object>"
            ]
          },
          "metadata": {}
        },
        {
          "output_type": "display_data",
          "data": {
            "application/javascript": [
              "download(\"download_bf117590-cd24-425b-b6e6-ed0675b03abc\", \"abcff.png\", 23933)"
            ],
            "text/plain": [
              "<IPython.core.display.Javascript object>"
            ]
          },
          "metadata": {}
        },
        {
          "output_type": "display_data",
          "data": {
            "image/png": "[encoded data removed]",
            "text/plain": [
              "<Figure size 648x216 with 1 Axes>"
            ]
          },
          "metadata": {
            "needs_background": "light"
          }
        }
      ]
    },
    {
      "cell_type": "code",
      "metadata": {
        "id": "0YinuVEJ8Hr5"
      },
      "source": [
        "SpotPriceAtExpiry=priceGenerated[len(priceGenerated)-2]"
      ],
      "execution_count": 15,
      "outputs": []
    },
    {
      "cell_type": "markdown",
      "metadata": {
        "id": "zuxm0P16D9nT"
      },
      "source": [
        "Simulated exchange rate has price SpotPriceAtExpiry at expiry date. Hedging does not have to be full, it can be partial, so total gain/lose can be calculated under different hedge ratios.Hedge ratio refers to proportion of total amount hedged. A sensitivity analysis is made to calculate gain/loses for ten different cases from 0% to 100% of hedge ratio."
      ]
    },
    {
      "cell_type": "code",
      "metadata": {
        "colab": {
          "base_uri": "https://localhost:8080/",
          "height": 394
        },
        "id": "BhG4p5w_D02M",
        "outputId": "66910963-4380-44e0-d10d-2ef430b05c73"
      },
      "source": [
        "hedgeRatios=[0.0,0.1,0.2,0.3,0.4,0.5,0.6,0.7,0.8,0.9,1.0]\n",
        "hedgeRatiosPercentage=100*np.array(hedgeRatios)\n",
        "hedgeRatiosPercentage=list(hedgeRatiosPercentage)\n",
        "totalFlow=[]\n",
        "for i in range(len(hedgeRatios)):\n",
        "    totalFlow.append(Scenarios[\"|Cash Flow with Full Hedging|\"][0]*hedgeRatios[i]+ \\\n",
        "    (1-hedgeRatios[i])*Scenarios[\"|Cash Flow at Spot Rate|\"][0])  \n",
        "SensitivityAnalysis=pd.DataFrame({\"Hedge Ratio (%)\":hedgeRatiosPercentage,\"Total Cash Flow ($)\":totalFlow})\n",
        "SensitivityAnalysis"
      ],
      "execution_count": 17,
      "outputs": [
        {
          "output_type": "execute_result",
          "data": {
            "text/html": [
              "<div>\n",
              "<style scoped>\n",
              "    .dataframe tbody tr th:only-of-type {\n",
              "        vertical-align: middle;\n",
              "    }\n",
              "\n",
              "    .dataframe tbody tr th {\n",
              "        vertical-align: top;\n",
              "    }\n",
              "\n",
              "    .dataframe thead th {\n",
              "        text-align: right;\n",
              "    }\n",
              "</style>\n",
              "<table border=\"1\" class=\"dataframe\">\n",
              "  <thead>\n",
              "    <tr style=\"text-align: right;\">\n",
              "      <th></th>\n",
              "      <th>Hedge Ratio (%)</th>\n",
              "      <th>Total Cash Flow ($)</th>\n",
              "    </tr>\n",
              "  </thead>\n",
              "  <tbody>\n",
              "    <tr>\n",
              "      <th>0</th>\n",
              "      <td>0.0</td>\n",
              "      <td>4162500.0</td>\n",
              "    </tr>\n",
              "    <tr>\n",
              "      <th>1</th>\n",
              "      <td>10.0</td>\n",
              "      <td>4185000.0</td>\n",
              "    </tr>\n",
              "    <tr>\n",
              "      <th>2</th>\n",
              "      <td>20.0</td>\n",
              "      <td>4207500.0</td>\n",
              "    </tr>\n",
              "    <tr>\n",
              "      <th>3</th>\n",
              "      <td>30.0</td>\n",
              "      <td>4230000.0</td>\n",
              "    </tr>\n",
              "    <tr>\n",
              "      <th>4</th>\n",
              "      <td>40.0</td>\n",
              "      <td>4252500.0</td>\n",
              "    </tr>\n",
              "    <tr>\n",
              "      <th>5</th>\n",
              "      <td>50.0</td>\n",
              "      <td>4275000.0</td>\n",
              "    </tr>\n",
              "    <tr>\n",
              "      <th>6</th>\n",
              "      <td>60.0</td>\n",
              "      <td>4297500.0</td>\n",
              "    </tr>\n",
              "    <tr>\n",
              "      <th>7</th>\n",
              "      <td>70.0</td>\n",
              "      <td>4320000.0</td>\n",
              "    </tr>\n",
              "    <tr>\n",
              "      <th>8</th>\n",
              "      <td>80.0</td>\n",
              "      <td>4342500.0</td>\n",
              "    </tr>\n",
              "    <tr>\n",
              "      <th>9</th>\n",
              "      <td>90.0</td>\n",
              "      <td>4365000.0</td>\n",
              "    </tr>\n",
              "    <tr>\n",
              "      <th>10</th>\n",
              "      <td>100.0</td>\n",
              "      <td>4387500.0</td>\n",
              "    </tr>\n",
              "  </tbody>\n",
              "</table>\n",
              "</div>"
            ],
            "text/plain": [
              "    Hedge Ratio (%)  Total Cash Flow ($)\n",
              "0               0.0            4162500.0\n",
              "1              10.0            4185000.0\n",
              "2              20.0            4207500.0\n",
              "3              30.0            4230000.0\n",
              "4              40.0            4252500.0\n",
              "5              50.0            4275000.0\n",
              "6              60.0            4297500.0\n",
              "7              70.0            4320000.0\n",
              "8              80.0            4342500.0\n",
              "9              90.0            4365000.0\n",
              "10            100.0            4387500.0"
            ]
          },
          "metadata": {},
          "execution_count": 17
        }
      ]
    },
    {
      "cell_type": "markdown",
      "metadata": {
        "id": "P5NjI27pMm3a"
      },
      "source": [
        "Here we visualize gains under different hedge ratios with spot price at expiry."
      ]
    },
    {
      "cell_type": "code",
      "metadata": {
        "id": "o9i7OR1VEEN3",
        "colab": {
          "base_uri": "https://localhost:8080/",
          "height": 317
        },
        "outputId": "90e405a1-d48e-414d-f585-093145c8ddaf"
      },
      "source": [
        "plt.plot(SensitivityAnalysis[\"Hedge Ratio (%)\"], SensitivityAnalysis[\"Total Cash Flow ($)\"])\n",
        "plt.title('Total cash flow with different hedge ratio', fontsize=14)\n",
        "plt.xlabel('Hedge Ratio (%)', fontsize=12)\n",
        "plt.ylabel('Total Cash Flow ($) in millions', fontsize=12)\n"
      ],
      "execution_count": 18,
      "outputs": [
        {
          "output_type": "execute_result",
          "data": {
            "text/plain": [
              "Text(0, 0.5, 'Total Cash Flow ($) in millions')"
            ]
          },
          "metadata": {},
          "execution_count": 18
        },
        {
          "output_type": "display_data",
          "data": {
            "image/png": "[encoded data removed]",
            "text/plain": [
              "<Figure size 432x288 with 1 Axes>"
            ]
          },
          "metadata": {
            "needs_background": "light"
          }
        }
      ]
    },
    {
      "cell_type": "code",
      "metadata": {
        "id": "lqRhyk7PLpEh"
      },
      "source": [
        ""
      ],
      "execution_count": null,
      "outputs": []
    }
  ]
}